{
 "cells": [
  {
   "cell_type": "markdown",
   "metadata": {},
   "source": [
    "# Regularization and Optimization in Neural Networks\n",
    "\n",
    "## Regularization of NNs\n",
    "\n",
    "Does regularization make sense in the context of neural networks? <br/>\n",
    "\n",
    "Yes! We still have all of the salient ingredients: a loss function, overfitting vs. underfitting, and coefficients (weights) that could get too large.\n",
    "\n",
    "But there are now a few different flavors besides L1 and L2 regularization. (Note that L1 regularization is not common in the context of  neural networks.)"
   ]
  },
  {
   "cell_type": "code",
   "execution_count": 32,
   "metadata": {},
   "outputs": [],
   "source": [
    "import pandas as pd\n",
    "from sklearn.model_selection import train_test_split\n",
    "from sklearn.preprocessing import StandardScaler\n",
    "from keras.models import Sequential\n",
    "from keras.layers import Dense\n",
    "from keras.utils import to_categorical\n",
    "from matplotlib import pyplot as plt\n",
    "%matplotlib inline"
   ]
  },
  {
   "cell_type": "code",
   "execution_count": 33,
   "metadata": {},
   "outputs": [
    {
     "data": {
      "text/html": [
       "<div>\n",
       "<style scoped>\n",
       "    .dataframe tbody tr th:only-of-type {\n",
       "        vertical-align: middle;\n",
       "    }\n",
       "\n",
       "    .dataframe tbody tr th {\n",
       "        vertical-align: top;\n",
       "    }\n",
       "\n",
       "    .dataframe thead th {\n",
       "        text-align: right;\n",
       "    }\n",
       "</style>\n",
       "<table border=\"1\" class=\"dataframe\">\n",
       "  <thead>\n",
       "    <tr style=\"text-align: right;\">\n",
       "      <th></th>\n",
       "      <th>fixed acidity</th>\n",
       "      <th>volatile acidity</th>\n",
       "      <th>citric acid</th>\n",
       "      <th>residual sugar</th>\n",
       "      <th>chlorides</th>\n",
       "      <th>free sulfur dioxide</th>\n",
       "      <th>total sulfur dioxide</th>\n",
       "      <th>density</th>\n",
       "      <th>pH</th>\n",
       "      <th>sulphates</th>\n",
       "      <th>alcohol</th>\n",
       "      <th>quality</th>\n",
       "      <th>red_wine</th>\n",
       "    </tr>\n",
       "  </thead>\n",
       "  <tbody>\n",
       "    <tr>\n",
       "      <th>0</th>\n",
       "      <td>7.4</td>\n",
       "      <td>0.70</td>\n",
       "      <td>0.00</td>\n",
       "      <td>1.9</td>\n",
       "      <td>0.076</td>\n",
       "      <td>11.0</td>\n",
       "      <td>34.0</td>\n",
       "      <td>0.9978</td>\n",
       "      <td>3.51</td>\n",
       "      <td>0.56</td>\n",
       "      <td>9.4</td>\n",
       "      <td>5</td>\n",
       "      <td>1</td>\n",
       "    </tr>\n",
       "    <tr>\n",
       "      <th>1</th>\n",
       "      <td>7.8</td>\n",
       "      <td>0.88</td>\n",
       "      <td>0.00</td>\n",
       "      <td>2.6</td>\n",
       "      <td>0.098</td>\n",
       "      <td>25.0</td>\n",
       "      <td>67.0</td>\n",
       "      <td>0.9968</td>\n",
       "      <td>3.20</td>\n",
       "      <td>0.68</td>\n",
       "      <td>9.8</td>\n",
       "      <td>5</td>\n",
       "      <td>1</td>\n",
       "    </tr>\n",
       "    <tr>\n",
       "      <th>2</th>\n",
       "      <td>7.8</td>\n",
       "      <td>0.76</td>\n",
       "      <td>0.04</td>\n",
       "      <td>2.3</td>\n",
       "      <td>0.092</td>\n",
       "      <td>15.0</td>\n",
       "      <td>54.0</td>\n",
       "      <td>0.9970</td>\n",
       "      <td>3.26</td>\n",
       "      <td>0.65</td>\n",
       "      <td>9.8</td>\n",
       "      <td>5</td>\n",
       "      <td>1</td>\n",
       "    </tr>\n",
       "    <tr>\n",
       "      <th>3</th>\n",
       "      <td>11.2</td>\n",
       "      <td>0.28</td>\n",
       "      <td>0.56</td>\n",
       "      <td>1.9</td>\n",
       "      <td>0.075</td>\n",
       "      <td>17.0</td>\n",
       "      <td>60.0</td>\n",
       "      <td>0.9980</td>\n",
       "      <td>3.16</td>\n",
       "      <td>0.58</td>\n",
       "      <td>9.8</td>\n",
       "      <td>6</td>\n",
       "      <td>1</td>\n",
       "    </tr>\n",
       "    <tr>\n",
       "      <th>4</th>\n",
       "      <td>7.4</td>\n",
       "      <td>0.70</td>\n",
       "      <td>0.00</td>\n",
       "      <td>1.9</td>\n",
       "      <td>0.076</td>\n",
       "      <td>11.0</td>\n",
       "      <td>34.0</td>\n",
       "      <td>0.9978</td>\n",
       "      <td>3.51</td>\n",
       "      <td>0.56</td>\n",
       "      <td>9.4</td>\n",
       "      <td>5</td>\n",
       "      <td>1</td>\n",
       "    </tr>\n",
       "  </tbody>\n",
       "</table>\n",
       "</div>"
      ],
      "text/plain": [
       "   fixed acidity  volatile acidity  citric acid  residual sugar  chlorides  \\\n",
       "0            7.4              0.70         0.00             1.9      0.076   \n",
       "1            7.8              0.88         0.00             2.6      0.098   \n",
       "2            7.8              0.76         0.04             2.3      0.092   \n",
       "3           11.2              0.28         0.56             1.9      0.075   \n",
       "4            7.4              0.70         0.00             1.9      0.076   \n",
       "\n",
       "   free sulfur dioxide  total sulfur dioxide  density    pH  sulphates  \\\n",
       "0                 11.0                  34.0   0.9978  3.51       0.56   \n",
       "1                 25.0                  67.0   0.9968  3.20       0.68   \n",
       "2                 15.0                  54.0   0.9970  3.26       0.65   \n",
       "3                 17.0                  60.0   0.9980  3.16       0.58   \n",
       "4                 11.0                  34.0   0.9978  3.51       0.56   \n",
       "\n",
       "   alcohol  quality  red_wine  \n",
       "0      9.4        5         1  \n",
       "1      9.8        5         1  \n",
       "2      9.8        5         1  \n",
       "3      9.8        6         1  \n",
       "4      9.4        5         1  "
      ]
     },
     "execution_count": 33,
     "metadata": {},
     "output_type": "execute_result"
    }
   ],
   "source": [
    "# Reading in the dataset\n",
    "wine = pd.read_csv('wine.csv')\n",
    "wine.head()\n"
   ]
  },
  {
   "cell_type": "code",
   "execution_count": 34,
   "metadata": {},
   "outputs": [],
   "source": [
    "#recalibrate our predictor\n",
    "#do this once\n",
    "#wine['quality']=wine['quality'].map(lambda x:x-3)"
   ]
  },
  {
   "cell_type": "code",
   "execution_count": 35,
   "metadata": {},
   "outputs": [],
   "source": [
    "# Defining X and y\n",
    "X = wine.drop('quality',axis=1)\n",
    "\n",
    "y= wine['quality']\n"
   ]
  },
  {
   "cell_type": "code",
   "execution_count": 36,
   "metadata": {
    "scrolled": true
   },
   "outputs": [
    {
     "data": {
      "text/plain": [
       "3    2836\n",
       "2    2138\n",
       "4    1079\n",
       "1     216\n",
       "5     193\n",
       "0      30\n",
       "6       5\n",
       "Name: quality, dtype: int64"
      ]
     },
     "execution_count": 36,
     "metadata": {},
     "output_type": "execute_result"
    }
   ],
   "source": [
    "wine.quality.value_counts()"
   ]
  },
  {
   "cell_type": "code",
   "execution_count": null,
   "metadata": {},
   "outputs": [],
   "source": []
  },
  {
   "cell_type": "code",
   "execution_count": 10,
   "metadata": {},
   "outputs": [],
   "source": [
    "# Investigating our target\n",
    "\n"
   ]
  },
  {
   "cell_type": "code",
   "execution_count": 50,
   "metadata": {
    "scrolled": true
   },
   "outputs": [],
   "source": [
    "# Splitting and scaling\n",
    "\n",
    "X_train,X_test,y_train,y_test = train_test_split(X,y,random_state=42)\n",
    "\n",
    "ss = StandardScaler()\n",
    "X_train_s = ss.fit_transform(X_train)\n",
    "X_test_s = ss.transform(X_test)"
   ]
  },
  {
   "cell_type": "code",
   "execution_count": 51,
   "metadata": {},
   "outputs": [
    {
     "data": {
      "text/plain": [
       "1539    2\n",
       "1109    3\n",
       "Name: quality, dtype: int64"
      ]
     },
     "execution_count": 51,
     "metadata": {},
     "output_type": "execute_result"
    }
   ],
   "source": [
    "y_train[:2]"
   ]
  },
  {
   "cell_type": "code",
   "execution_count": 54,
   "metadata": {},
   "outputs": [],
   "source": [
    "# Encoding our target\n",
    "#y_train =  to_categorical(y_train)\n",
    "#y_test = to_categorical(y_test)\n"
   ]
  },
  {
   "cell_type": "code",
   "execution_count": 53,
   "metadata": {},
   "outputs": [
    {
     "data": {
      "text/plain": [
       "(4872, 7)"
      ]
     },
     "execution_count": 53,
     "metadata": {},
     "output_type": "execute_result"
    }
   ],
   "source": [
    "y_train.shape"
   ]
  },
  {
   "cell_type": "code",
   "execution_count": 72,
   "metadata": {},
   "outputs": [],
   "source": [
    "# Constructing our model\n",
    "model = Sequential()\n",
    "n_input = X_train_s.shape[1]\n",
    "n_hidden = n_input\n",
    "\n",
    "model.add(Dense(n_hidden,input_dim=n_input,activation='relu'))\n",
    "# We want to predict probabilities, so we'll use a softmax activation\n",
    "\n",
    "model.add(Dense(7,activation='softmax'))\n"
   ]
  },
  {
   "cell_type": "code",
   "execution_count": 73,
   "metadata": {},
   "outputs": [],
   "source": [
    "# Compiling\n",
    "\n",
    "# We want to use categorical crossentropy as our optimizer\n",
    "\n",
    "model.compile(loss='categorical_crossentropy',\n",
    "              optimizer='adam',\n",
    "              metrics=['acc']\n",
    "             )\n"
   ]
  },
  {
   "cell_type": "code",
   "execution_count": 74,
   "metadata": {},
   "outputs": [
    {
     "name": "stdout",
     "output_type": "stream",
     "text": [
      "Train on 4872 samples, validate on 1625 samples\n",
      "Epoch 1/42\n",
      "4872/4872 [==============================] - 1s 256us/step - loss: 1.7685 - acc: 0.2982 - val_loss: 1.5161 - val_acc: 0.4609\n",
      "Epoch 2/42\n",
      "4872/4872 [==============================] - 1s 139us/step - loss: 1.3847 - acc: 0.4657 - val_loss: 1.3034 - val_acc: 0.4825\n",
      "Epoch 3/42\n",
      "4872/4872 [==============================] - 1s 139us/step - loss: 1.2343 - acc: 0.4891 - val_loss: 1.2166 - val_acc: 0.4948\n",
      "Epoch 4/42\n",
      "4872/4872 [==============================] - 1s 130us/step - loss: 1.1672 - acc: 0.5060 - val_loss: 1.1756 - val_acc: 0.5028\n",
      "Epoch 5/42\n",
      "4872/4872 [==============================] - 0s 98us/step - loss: 1.1325 - acc: 0.5220 - val_loss: 1.1517 - val_acc: 0.5095\n",
      "Epoch 6/42\n",
      "4872/4872 [==============================] - 1s 140us/step - loss: 1.1113 - acc: 0.5343 - val_loss: 1.1365 - val_acc: 0.5138\n",
      "Epoch 7/42\n",
      "4872/4872 [==============================] - 1s 274us/step - loss: 1.0982 - acc: 0.5431 - val_loss: 1.1288 - val_acc: 0.5151\n",
      "Epoch 8/42\n",
      "4872/4872 [==============================] - 1s 232us/step - loss: 1.0888 - acc: 0.5400 - val_loss: 1.1214 - val_acc: 0.5145\n",
      "Epoch 9/42\n",
      "4872/4872 [==============================] - 1s 216us/step - loss: 1.0812 - acc: 0.5415 - val_loss: 1.1148 - val_acc: 0.5206\n",
      "Epoch 10/42\n",
      "4872/4872 [==============================] - 1s 228us/step - loss: 1.0751 - acc: 0.5450 - val_loss: 1.1092 - val_acc: 0.5249\n",
      "Epoch 11/42\n",
      "4872/4872 [==============================] - 1s 217us/step - loss: 1.0695 - acc: 0.5452 - val_loss: 1.1057 - val_acc: 0.5305\n",
      "Epoch 12/42\n",
      "4872/4872 [==============================] - 1s 213us/step - loss: 1.0651 - acc: 0.5517 - val_loss: 1.1027 - val_acc: 0.5255\n",
      "Epoch 13/42\n",
      "4872/4872 [==============================] - 1s 234us/step - loss: 1.0611 - acc: 0.5507 - val_loss: 1.0975 - val_acc: 0.5360\n",
      "Epoch 14/42\n",
      "4872/4872 [==============================] - 1s 206us/step - loss: 1.0572 - acc: 0.5540 - val_loss: 1.0959 - val_acc: 0.5348\n",
      "Epoch 15/42\n",
      "4872/4872 [==============================] - 1s 162us/step - loss: 1.0550 - acc: 0.5550 - val_loss: 1.0930 - val_acc: 0.5385\n",
      "Epoch 16/42\n",
      "4872/4872 [==============================] - 1s 215us/step - loss: 1.0519 - acc: 0.5589 - val_loss: 1.0904 - val_acc: 0.5366\n",
      "Epoch 17/42\n",
      "4872/4872 [==============================] - 1s 151us/step - loss: 1.0492 - acc: 0.5610 - val_loss: 1.0871 - val_acc: 0.5372\n",
      "Epoch 18/42\n",
      "4872/4872 [==============================] - 0s 68us/step - loss: 1.0470 - acc: 0.5595 - val_loss: 1.0839 - val_acc: 0.5397\n",
      "Epoch 19/42\n",
      "4872/4872 [==============================] - 1s 167us/step - loss: 1.0445 - acc: 0.5679 - val_loss: 1.0835 - val_acc: 0.5440\n",
      "Epoch 20/42\n",
      "4872/4872 [==============================] - 1s 177us/step - loss: 1.0424 - acc: 0.5655 - val_loss: 1.0809 - val_acc: 0.5403\n",
      "Epoch 21/42\n",
      "4872/4872 [==============================] - 1s 155us/step - loss: 1.0401 - acc: 0.5647 - val_loss: 1.0808 - val_acc: 0.5415\n",
      "Epoch 22/42\n",
      "4872/4872 [==============================] - 1s 214us/step - loss: 1.0385 - acc: 0.5667 - val_loss: 1.0786 - val_acc: 0.5397\n",
      "Epoch 23/42\n",
      "4872/4872 [==============================] - 1s 162us/step - loss: 1.0368 - acc: 0.5657 - val_loss: 1.0754 - val_acc: 0.5495\n",
      "Epoch 24/42\n",
      "4872/4872 [==============================] - 1s 202us/step - loss: 1.0347 - acc: 0.5677 - val_loss: 1.0739 - val_acc: 0.5440\n",
      "Epoch 25/42\n",
      "4872/4872 [==============================] - 1s 123us/step - loss: 1.0335 - acc: 0.5669 - val_loss: 1.0732 - val_acc: 0.5458\n",
      "Epoch 26/42\n",
      "4872/4872 [==============================] - 1s 209us/step - loss: 1.0319 - acc: 0.5698 - val_loss: 1.0701 - val_acc: 0.5477\n",
      "Epoch 27/42\n",
      "4872/4872 [==============================] - 1s 205us/step - loss: 1.0305 - acc: 0.5665 - val_loss: 1.0690 - val_acc: 0.5477\n",
      "Epoch 28/42\n",
      "4872/4872 [==============================] - 1s 235us/step - loss: 1.0290 - acc: 0.5661 - val_loss: 1.0673 - val_acc: 0.5440\n",
      "Epoch 29/42\n",
      "4872/4872 [==============================] - 1s 201us/step - loss: 1.0281 - acc: 0.5669 - val_loss: 1.0663 - val_acc: 0.5428\n",
      "Epoch 30/42\n",
      "4872/4872 [==============================] - 1s 220us/step - loss: 1.0266 - acc: 0.5694 - val_loss: 1.0664 - val_acc: 0.5452\n",
      "Epoch 31/42\n",
      "4872/4872 [==============================] - 1s 227us/step - loss: 1.0256 - acc: 0.5673 - val_loss: 1.0655 - val_acc: 0.5508\n",
      "Epoch 32/42\n",
      "4872/4872 [==============================] - 1s 129us/step - loss: 1.0245 - acc: 0.5698 - val_loss: 1.0635 - val_acc: 0.5477\n",
      "Epoch 33/42\n",
      "4872/4872 [==============================] - 1s 219us/step - loss: 1.0238 - acc: 0.5692 - val_loss: 1.0626 - val_acc: 0.5520\n",
      "Epoch 34/42\n",
      "4872/4872 [==============================] - 1s 110us/step - loss: 1.0231 - acc: 0.5657 - val_loss: 1.0623 - val_acc: 0.54520s - loss: 1.0205 - acc: 0.\n",
      "Epoch 35/42\n",
      "4872/4872 [==============================] - 0s 95us/step - loss: 1.0223 - acc: 0.5675 - val_loss: 1.0622 - val_acc: 0.5471\n",
      "Epoch 36/42\n",
      "4872/4872 [==============================] - 0s 90us/step - loss: 1.0218 - acc: 0.5649 - val_loss: 1.0610 - val_acc: 0.5489\n",
      "Epoch 37/42\n",
      "4872/4872 [==============================] - 0s 89us/step - loss: 1.0209 - acc: 0.5704 - val_loss: 1.0600 - val_acc: 0.5495\n",
      "Epoch 38/42\n",
      "4872/4872 [==============================] - 1s 174us/step - loss: 1.0199 - acc: 0.5702 - val_loss: 1.0580 - val_acc: 0.5452\n",
      "Epoch 39/42\n",
      "4872/4872 [==============================] - 1s 156us/step - loss: 1.0195 - acc: 0.5688 - val_loss: 1.0583 - val_acc: 0.5452\n",
      "Epoch 40/42\n",
      "4872/4872 [==============================] - 1s 124us/step - loss: 1.0187 - acc: 0.5704 - val_loss: 1.0602 - val_acc: 0.5452\n",
      "Epoch 41/42\n",
      "4872/4872 [==============================] - 1s 126us/step - loss: 1.0176 - acc: 0.5688 - val_loss: 1.0562 - val_acc: 0.5440\n",
      "Epoch 42/42\n",
      "4872/4872 [==============================] - 0s 96us/step - loss: 1.0173 - acc: 0.5694 - val_loss: 1.0566 - val_acc: 0.5465\n"
     ]
    }
   ],
   "source": [
    "# Fitting and saving the history log\n",
    "\n",
    "history_log = model.fit(X_train_s,y_train,\n",
    "                        validation_data=(X_test_s,y_test),\n",
    "                       epochs=42, batch_size=None)\n"
   ]
  },
  {
   "cell_type": "code",
   "execution_count": 58,
   "metadata": {
    "scrolled": true
   },
   "outputs": [
    {
     "name": "stdout",
     "output_type": "stream",
     "text": [
      "[array([[-0.1463805 , -0.72063047, -0.01442604, -0.3665842 , -0.12239297,\n",
      "         0.27641115, -0.01904706, -0.11934267, -0.04579281,  0.33907774,\n",
      "        -0.4292147 ,  0.42038652],\n",
      "       [-0.52109736,  0.374604  , -0.20766333,  0.17855789,  0.39676613,\n",
      "        -0.33452013, -0.8564925 ,  0.57255536,  0.07936831,  0.05153576,\n",
      "        -0.5729576 ,  0.19242595],\n",
      "       [-0.38080466, -0.06823654,  0.3733662 , -0.17853843,  0.4327863 ,\n",
      "         0.1479583 , -0.29405454, -0.07701122, -0.23973604, -0.3361478 ,\n",
      "        -0.22536911, -0.08059634],\n",
      "       [-0.22729671,  0.4160246 , -0.13904674,  0.14683194, -0.31790432,\n",
      "         0.0370829 ,  0.43369517,  0.18857673, -0.8011361 , -0.5000155 ,\n",
      "         0.55946285,  0.49636906],\n",
      "       [-0.15699494,  0.10251114,  0.13927333,  0.2163994 , -0.29991212,\n",
      "        -0.5888271 ,  0.11348782, -0.4278596 ,  0.23750144, -0.18876399,\n",
      "        -0.48065373,  0.33159688],\n",
      "       [-0.21856417, -0.16661237,  0.20276545,  0.41361254,  0.15545522,\n",
      "         0.34803772,  0.19447495, -0.20992081, -0.08618429, -1.18008   ,\n",
      "         0.0802324 , -0.23905332],\n",
      "       [-0.21567105,  0.5122517 , -0.12163868,  0.35970765, -0.10013314,\n",
      "        -0.39337116, -0.3003528 , -0.1290754 ,  0.43349466, -0.31102255,\n",
      "         0.2977806 , -0.18511204],\n",
      "       [-0.18373415,  0.45355773, -0.17149015,  0.07016049,  0.15030684,\n",
      "        -0.6686474 , -0.01259664, -0.48809907,  0.3994009 , -0.43662983,\n",
      "        -0.06800646, -0.39252958],\n",
      "       [ 0.07247842,  0.0609846 ,  0.01577508, -0.3995871 ,  0.24399339,\n",
      "         0.29985875, -0.26676866,  0.36899778, -0.26825234, -0.4200469 ,\n",
      "        -0.16584769, -0.14981173],\n",
      "       [ 0.20678155,  0.38117525, -0.25317064, -0.03665431, -0.57379675,\n",
      "         0.42866614,  0.13232967,  0.01983164,  0.2387001 , -0.11941624,\n",
      "         0.07216802, -0.13307244],\n",
      "       [-0.17319827, -0.3380892 ,  0.17278397, -0.20474043, -0.39645797,\n",
      "         0.5535839 ,  0.17864466,  0.34774324,  0.23555057, -0.13361873,\n",
      "         0.15553996,  0.5817332 ],\n",
      "       [ 0.89131933, -0.02292443, -0.5269774 ,  0.24823982,  0.42864674,\n",
      "         0.417634  , -0.2130497 ,  0.0186824 ,  0.2954225 , -0.950065  ,\n",
      "        -0.90780735,  0.59042543]], dtype=float32), array([ 0.5772958 ,  0.7676422 ,  0.34224388,  0.26384673,  0.48259798,\n",
      "        0.75670224, -0.42520887,  0.08663741,  0.72863185,  0.04270469,\n",
      "        0.5963675 , -0.10344792], dtype=float32)]\n",
      "[array([[-0.14806247, -0.14317177,  0.36991113,  0.4844986 ,  0.10914826,\n",
      "        -0.12536322, -0.75984055],\n",
      "       [-0.14813875,  0.7285811 ,  0.5543353 ,  0.46591038,  0.12353294,\n",
      "        -0.2854822 , -1.3004158 ],\n",
      "       [-0.08971886, -0.42640078, -0.04107742,  0.6496069 , -0.03494612,\n",
      "        -0.07279832, -0.590182  ],\n",
      "       [-0.01402802, -0.18519133,  0.458459  , -0.15310165, -0.28827572,\n",
      "         0.36661983, -1.3891548 ],\n",
      "       [-0.02563856,  0.05688042,  0.5932305 , -0.12470425, -0.57600284,\n",
      "        -0.96977276, -0.39406514],\n",
      "       [-0.91350836, -0.48181555, -0.2809628 ,  0.19104305,  0.87499785,\n",
      "         0.7850174 ,  0.26188168],\n",
      "       [-0.7278915 , -0.6552525 , -0.62513214,  0.13977267, -0.0118963 ,\n",
      "         0.50483036, -0.40299332],\n",
      "       [ 0.19097635,  0.02143588, -0.6153491 , -0.40732166, -0.36341295,\n",
      "         0.1787611 , -0.2188813 ],\n",
      "       [-0.30075815, -0.02239012,  0.42312035,  0.29336792, -0.28962755,\n",
      "        -0.87855494, -1.2043095 ],\n",
      "       [-0.13236961,  0.84139156,  0.48347622, -0.00941829, -0.22672583,\n",
      "        -0.51556975, -0.6352621 ],\n",
      "       [-0.57861733, -0.8255339 , -0.07482881,  0.2369532 ,  0.2786916 ,\n",
      "        -0.2375775 , -0.504951  ],\n",
      "       [ 0.41791514, -0.04707411, -0.2017587 ,  0.27633166,  0.4083381 ,\n",
      "         0.27095428, -0.23954375]], dtype=float32), array([-0.5468919 , -0.30941448,  0.3237633 ,  0.37536952,  0.01752077,\n",
      "       -0.28329533, -0.4043678 ], dtype=float32)]\n"
     ]
    }
   ],
   "source": [
    "# Extracting weights\n",
    "\n",
    "for layer in model.layers:\n",
    "    print(layer.get_weights())"
   ]
  },
  {
   "cell_type": "code",
   "execution_count": 59,
   "metadata": {},
   "outputs": [
    {
     "data": {
      "text/plain": [
       "array([[0.  , 0.  , 0.02, 0.63, 0.3 , 0.05, 0.  ],\n",
       "       [0.01, 0.02, 0.85, 0.12, 0.  , 0.  , 0.  ],\n",
       "       [0.  , 0.  , 0.04, 0.36, 0.44, 0.15, 0.01],\n",
       "       [0.  , 0.01, 0.53, 0.4 , 0.04, 0.01, 0.  ],\n",
       "       [0.  , 0.01, 0.67, 0.27, 0.04, 0.01, 0.  ]], dtype=float32)"
      ]
     },
     "execution_count": 59,
     "metadata": {},
     "output_type": "execute_result"
    }
   ],
   "source": [
    "# Predicting on some test data\n",
    "model.predict(X_test_s[:5]).round(2)\n"
   ]
  },
  {
   "cell_type": "code",
   "execution_count": null,
   "metadata": {},
   "outputs": [],
   "source": []
  },
  {
   "cell_type": "code",
   "execution_count": 60,
   "metadata": {},
   "outputs": [
    {
     "data": {
      "text/plain": [
       "array([[0., 0., 0., 0., 0., 1., 0.],\n",
       "       [0., 0., 1., 0., 0., 0., 0.],\n",
       "       [0., 0., 0., 0., 1., 0., 0.],\n",
       "       [0., 0., 0., 1., 0., 0., 0.],\n",
       "       [0., 0., 0., 1., 0., 0., 0.]], dtype=float32)"
      ]
     },
     "execution_count": 60,
     "metadata": {},
     "output_type": "execute_result"
    }
   ],
   "source": [
    "# Comparing with reality\n",
    "\n",
    "y_test[:5]"
   ]
  },
  {
   "cell_type": "code",
   "execution_count": 75,
   "metadata": {},
   "outputs": [
    {
     "data": {
      "image/png": "[encoded data removed]",
      "text/plain": [
       "<Figure size 432x288 with 1 Axes>"
      ]
     },
     "metadata": {
      "needs_background": "light"
     },
     "output_type": "display_data"
    }
   ],
   "source": [
    "# Plotting\n",
    "plt.plot(history_log.history['loss'], label='Training loss')\n",
    "plt.plot(history_log.history['val_loss'], label='Testing loss')\n",
    "plt.legend();"
   ]
  },
  {
   "cell_type": "markdown",
   "metadata": {},
   "source": [
    "## Adding Regularization"
   ]
  },
  {
   "cell_type": "code",
   "execution_count": 67,
   "metadata": {},
   "outputs": [
    {
     "name": "stdout",
     "output_type": "stream",
     "text": [
      "Train on 4872 samples, validate on 1625 samples\n",
      "Epoch 1/42\n",
      "4872/4872 [==============================] - 1s 147us/step - loss: 1.7918 - acc: 0.3918 - val_loss: 1.5640 - val_acc: 0.4769\n",
      "Epoch 2/42\n",
      "4872/4872 [==============================] - 0s 86us/step - loss: 1.4811 - acc: 0.4901 - val_loss: 1.4109 - val_acc: 0.5003\n",
      "Epoch 3/42\n",
      "4872/4872 [==============================] - 0s 78us/step - loss: 1.3769 - acc: 0.5096 - val_loss: 1.3460 - val_acc: 0.5138\n",
      "Epoch 4/42\n",
      "4872/4872 [==============================] - 0s 85us/step - loss: 1.3203 - acc: 0.5265 - val_loss: 1.3042 - val_acc: 0.5212\n",
      "Epoch 5/42\n",
      "4872/4872 [==============================] - 0s 91us/step - loss: 1.2816 - acc: 0.5365 - val_loss: 1.2756 - val_acc: 0.5323\n",
      "Epoch 6/42\n",
      "4872/4872 [==============================] - 0s 87us/step - loss: 1.2537 - acc: 0.5431 - val_loss: 1.2542 - val_acc: 0.5305\n",
      "Epoch 7/42\n",
      "4872/4872 [==============================] - 0s 89us/step - loss: 1.2321 - acc: 0.5443 - val_loss: 1.2382 - val_acc: 0.5305\n",
      "Epoch 8/42\n",
      "4872/4872 [==============================] - 0s 89us/step - loss: 1.2161 - acc: 0.5458 - val_loss: 1.2253 - val_acc: 0.5292\n",
      "Epoch 9/42\n",
      "4872/4872 [==============================] - 0s 97us/step - loss: 1.2040 - acc: 0.5478 - val_loss: 1.2135 - val_acc: 0.5348\n",
      "Epoch 10/42\n",
      "4872/4872 [==============================] - 0s 79us/step - loss: 1.1929 - acc: 0.5452 - val_loss: 1.2090 - val_acc: 0.5348\n",
      "Epoch 11/42\n",
      "4872/4872 [==============================] - 0s 97us/step - loss: 1.1839 - acc: 0.5466 - val_loss: 1.2035 - val_acc: 0.5348\n",
      "Epoch 12/42\n",
      "4872/4872 [==============================] - 0s 99us/step - loss: 1.1771 - acc: 0.5503 - val_loss: 1.1914 - val_acc: 0.5292\n",
      "Epoch 13/42\n",
      "4872/4872 [==============================] - 1s 212us/step - loss: 1.1707 - acc: 0.5484 - val_loss: 1.1858 - val_acc: 0.5292\n",
      "Epoch 14/42\n",
      "4872/4872 [==============================] - 1s 152us/step - loss: 1.1652 - acc: 0.5511 - val_loss: 1.1833 - val_acc: 0.5372\n",
      "Epoch 15/42\n",
      "4872/4872 [==============================] - 0s 95us/step - loss: 1.1603 - acc: 0.5511 - val_loss: 1.1766 - val_acc: 0.5292\n",
      "Epoch 16/42\n",
      "4872/4872 [==============================] - 1s 216us/step - loss: 1.1559 - acc: 0.5507 - val_loss: 1.1721 - val_acc: 0.5317\n",
      "Epoch 17/42\n",
      "4872/4872 [==============================] - 0s 90us/step - loss: 1.1522 - acc: 0.5497 - val_loss: 1.1692 - val_acc: 0.5348\n",
      "Epoch 18/42\n",
      "4872/4872 [==============================] - 1s 222us/step - loss: 1.1489 - acc: 0.5536 - val_loss: 1.1671 - val_acc: 0.5335\n",
      "Epoch 19/42\n",
      "4872/4872 [==============================] - 1s 205us/step - loss: 1.1467 - acc: 0.5536 - val_loss: 1.1630 - val_acc: 0.5335\n",
      "Epoch 20/42\n",
      "4872/4872 [==============================] - 1s 285us/step - loss: 1.1454 - acc: 0.5532 - val_loss: 1.1606 - val_acc: 0.5298\n",
      "Epoch 21/42\n",
      "4872/4872 [==============================] - 1s 183us/step - loss: 1.1431 - acc: 0.5532 - val_loss: 1.1616 - val_acc: 0.5311\n",
      "Epoch 22/42\n",
      "4872/4872 [==============================] - 1s 148us/step - loss: 1.1422 - acc: 0.5511 - val_loss: 1.1598 - val_acc: 0.5311\n",
      "Epoch 23/42\n",
      "4872/4872 [==============================] - 1s 289us/step - loss: 1.1408 - acc: 0.5513 - val_loss: 1.1591 - val_acc: 0.5298\n",
      "Epoch 24/42\n",
      "4872/4872 [==============================] - 1s 135us/step - loss: 1.1395 - acc: 0.5532 - val_loss: 1.1586 - val_acc: 0.5323\n",
      "Epoch 25/42\n",
      "4872/4872 [==============================] - 1s 128us/step - loss: 1.1387 - acc: 0.5534 - val_loss: 1.1588 - val_acc: 0.5317\n",
      "Epoch 26/42\n",
      "4872/4872 [==============================] - 0s 92us/step - loss: 1.1382 - acc: 0.5575 - val_loss: 1.1551 - val_acc: 0.5323\n",
      "Epoch 27/42\n",
      "4872/4872 [==============================] - 1s 116us/step - loss: 1.1375 - acc: 0.5528 - val_loss: 1.1546 - val_acc: 0.5311\n",
      "Epoch 28/42\n",
      "4872/4872 [==============================] - 1s 142us/step - loss: 1.1366 - acc: 0.5525 - val_loss: 1.1537 - val_acc: 0.5311\n",
      "Epoch 29/42\n",
      "4872/4872 [==============================] - 1s 119us/step - loss: 1.1357 - acc: 0.5538 - val_loss: 1.1553 - val_acc: 0.5311\n",
      "Epoch 30/42\n",
      "4872/4872 [==============================] - 1s 111us/step - loss: 1.1352 - acc: 0.5521 - val_loss: 1.1535 - val_acc: 0.5286\n",
      "Epoch 31/42\n",
      "4872/4872 [==============================] - 1s 123us/step - loss: 1.1345 - acc: 0.5515 - val_loss: 1.1535 - val_acc: 0.5280\n",
      "Epoch 32/42\n",
      "4872/4872 [==============================] - 1s 114us/step - loss: 1.1343 - acc: 0.5556 - val_loss: 1.1537 - val_acc: 0.5354\n",
      "Epoch 33/42\n",
      "4872/4872 [==============================] - 0s 99us/step - loss: 1.1337 - acc: 0.5562 - val_loss: 1.1529 - val_acc: 0.5305\n",
      "Epoch 34/42\n",
      "4872/4872 [==============================] - 0s 100us/step - loss: 1.1330 - acc: 0.5521 - val_loss: 1.1502 - val_acc: 0.5317\n",
      "Epoch 35/42\n",
      "4872/4872 [==============================] - 0s 102us/step - loss: 1.1322 - acc: 0.5536 - val_loss: 1.1544 - val_acc: 0.5360\n",
      "Epoch 36/42\n",
      "4872/4872 [==============================] - 0s 99us/step - loss: 1.1316 - acc: 0.5534 - val_loss: 1.1503 - val_acc: 0.5311\n",
      "Epoch 37/42\n",
      "4872/4872 [==============================] - 0s 81us/step - loss: 1.1322 - acc: 0.5519 - val_loss: 1.1499 - val_acc: 0.5335\n",
      "Epoch 38/42\n",
      "4872/4872 [==============================] - 0s 80us/step - loss: 1.1314 - acc: 0.5544 - val_loss: 1.1514 - val_acc: 0.5262\n",
      "Epoch 39/42\n",
      "4872/4872 [==============================] - 0s 95us/step - loss: 1.1308 - acc: 0.5546 - val_loss: 1.1489 - val_acc: 0.5286\n",
      "Epoch 40/42\n",
      "4872/4872 [==============================] - 0s 78us/step - loss: 1.1311 - acc: 0.5532 - val_loss: 1.1514 - val_acc: 0.5366\n",
      "Epoch 41/42\n",
      "4872/4872 [==============================] - 0s 97us/step - loss: 1.1305 - acc: 0.5525 - val_loss: 1.1518 - val_acc: 0.5354\n",
      "Epoch 42/42\n",
      "4872/4872 [==============================] - 1s 128us/step - loss: 1.1303 - acc: 0.5528 - val_loss: 1.1480 - val_acc: 0.5292\n"
     ]
    }
   ],
   "source": [
    "from keras import regularizers\n",
    "\n",
    "model_r = Sequential()\n",
    "\n",
    "n_input = X_train_s.shape[1]\n",
    "n_hidden = n_input\n",
    "\n",
    "model_r.add(Dense(n_hidden, input_dim=n_input, activation='relu',\n",
    "                 kernel_regularizer=regularizers.l2(0.01)))\n",
    "model_r.add(Dense(7, activation='softmax',\n",
    "                 kernel_regularizer=regularizers.l2(0.01)))\n",
    "\n",
    "model_r.compile(loss='categorical_crossentropy', optimizer='adam', metrics=['acc'])\n",
    "\n",
    "history_r = model_r.fit(X_train_s, y_train, validation_data=(X_test_s, y_test),\n",
    "                       epochs=42, batch_size=None)"
   ]
  },
  {
   "cell_type": "code",
   "execution_count": 64,
   "metadata": {},
   "outputs": [
    {
     "data": {
      "image/png": "[encoded data removed]",
      "text/plain": [
       "<Figure size 432x288 with 1 Axes>"
      ]
     },
     "metadata": {
      "needs_background": "light"
     },
     "output_type": "display_data"
    }
   ],
   "source": [
    "plt.plot(history_r.history['loss'], label='Training loss')\n",
    "plt.plot(history_r.history['val_loss'], label='Testing loss')\n",
    "plt.legend();"
   ]
  },
  {
   "cell_type": "markdown",
   "metadata": {},
   "source": [
    "### Dropout"
   ]
  },
  {
   "cell_type": "markdown",
   "metadata": {},
   "source": [
    "Here's a new regularization idea: Turn some neurons off during training. We'll assign probabilities of 'dropout' and then let fate decide.\n",
    "\n",
    "$\\rightarrow$ Why is this a good idea? *Is* it a good idea?\n",
    "\n",
    "Was this sort of regularization available to us before? Why (not)?"
   ]
  },
  {
   "cell_type": "code",
   "execution_count": 78,
   "metadata": {},
   "outputs": [
    {
     "name": "stdout",
     "output_type": "stream",
     "text": [
      "Train on 4872 samples, validate on 1625 samples\n",
      "Epoch 1/42\n",
      "4872/4872 [==============================] - 1s 227us/step - loss: 2.0208 - acc: 0.1593 - val_loss: 1.6507 - val_acc: 0.3458\n",
      "Epoch 2/42\n",
      "4872/4872 [==============================] - 1s 111us/step - loss: 1.5545 - acc: 0.4033 - val_loss: 1.3989 - val_acc: 0.4726\n",
      "Epoch 3/42\n",
      "4872/4872 [==============================] - 1s 110us/step - loss: 1.3798 - acc: 0.4518 - val_loss: 1.2790 - val_acc: 0.4923\n",
      "Epoch 4/42\n",
      "4872/4872 [==============================] - 1s 111us/step - loss: 1.2912 - acc: 0.4692 - val_loss: 1.2192 - val_acc: 0.5089\n",
      "Epoch 5/42\n",
      "4872/4872 [==============================] - 1s 159us/step - loss: 1.2430 - acc: 0.4840 - val_loss: 1.1859 - val_acc: 0.5169\n",
      "Epoch 6/42\n",
      "4872/4872 [==============================] - 1s 108us/step - loss: 1.2043 - acc: 0.4955 - val_loss: 1.1619 - val_acc: 0.5231\n",
      "Epoch 7/42\n",
      "4872/4872 [==============================] - 1s 121us/step - loss: 1.1826 - acc: 0.5144 - val_loss: 1.1454 - val_acc: 0.5249\n",
      "Epoch 8/42\n",
      "4872/4872 [==============================] - 1s 128us/step - loss: 1.1573 - acc: 0.5162 - val_loss: 1.1329 - val_acc: 0.5262\n",
      "Epoch 9/42\n",
      "4872/4872 [==============================] - 1s 135us/step - loss: 1.1461 - acc: 0.5191 - val_loss: 1.1224 - val_acc: 0.5342\n",
      "Epoch 10/42\n",
      "4872/4872 [==============================] - 1s 227us/step - loss: 1.1300 - acc: 0.5230 - val_loss: 1.1166 - val_acc: 0.5403\n",
      "Epoch 11/42\n",
      "4872/4872 [==============================] - 1s 222us/step - loss: 1.1263 - acc: 0.5324 - val_loss: 1.1105 - val_acc: 0.5372\n",
      "Epoch 12/42\n",
      "4872/4872 [==============================] - 1s 120us/step - loss: 1.1183 - acc: 0.5347 - val_loss: 1.1056 - val_acc: 0.5415\n",
      "Epoch 13/42\n",
      "4872/4872 [==============================] - 1s 111us/step - loss: 1.1094 - acc: 0.5320 - val_loss: 1.1002 - val_acc: 0.5372\n",
      "Epoch 14/42\n",
      "4872/4872 [==============================] - 0s 98us/step - loss: 1.1014 - acc: 0.5349 - val_loss: 1.0985 - val_acc: 0.5446\n",
      "Epoch 15/42\n",
      "4872/4872 [==============================] - 1s 217us/step - loss: 1.0955 - acc: 0.5406 - val_loss: 1.0964 - val_acc: 0.5434\n",
      "Epoch 16/42\n",
      "4872/4872 [==============================] - 1s 255us/step - loss: 1.0931 - acc: 0.5480 - val_loss: 1.0922 - val_acc: 0.5434\n",
      "Epoch 17/42\n",
      "4872/4872 [==============================] - 1s 237us/step - loss: 1.0891 - acc: 0.5445 - val_loss: 1.0886 - val_acc: 0.5422\n",
      "Epoch 18/42\n",
      "4872/4872 [==============================] - 1s 152us/step - loss: 1.0904 - acc: 0.5460 - val_loss: 1.0869 - val_acc: 0.5434\n",
      "Epoch 19/42\n",
      "4872/4872 [==============================] - 1s 151us/step - loss: 1.0898 - acc: 0.5402 - val_loss: 1.0850 - val_acc: 0.5409\n",
      "Epoch 20/42\n",
      "4872/4872 [==============================] - 1s 158us/step - loss: 1.0796 - acc: 0.5433 - val_loss: 1.0823 - val_acc: 0.5415\n",
      "Epoch 21/42\n",
      "4872/4872 [==============================] - 1s 114us/step - loss: 1.0823 - acc: 0.5431 - val_loss: 1.0808 - val_acc: 0.5428\n",
      "Epoch 22/42\n",
      "4872/4872 [==============================] - 1s 136us/step - loss: 1.0739 - acc: 0.5456 - val_loss: 1.0807 - val_acc: 0.5409\n",
      "Epoch 23/42\n",
      "4872/4872 [==============================] - 1s 104us/step - loss: 1.0836 - acc: 0.5386 - val_loss: 1.0782 - val_acc: 0.5452\n",
      "Epoch 24/42\n",
      "4872/4872 [==============================] - 1s 201us/step - loss: 1.0752 - acc: 0.5462 - val_loss: 1.0759 - val_acc: 0.5483\n",
      "Epoch 25/42\n",
      "4872/4872 [==============================] - 1s 224us/step - loss: 1.0809 - acc: 0.5402 - val_loss: 1.0759 - val_acc: 0.5440\n",
      "Epoch 26/42\n",
      "4872/4872 [==============================] - 1s 248us/step - loss: 1.0716 - acc: 0.5447 - val_loss: 1.0769 - val_acc: 0.5428\n",
      "Epoch 27/42\n",
      "4872/4872 [==============================] - 1s 200us/step - loss: 1.0675 - acc: 0.5464 - val_loss: 1.0751 - val_acc: 0.5428\n",
      "Epoch 28/42\n",
      "4872/4872 [==============================] - 1s 118us/step - loss: 1.0745 - acc: 0.5447 - val_loss: 1.0757 - val_acc: 0.5452\n",
      "Epoch 29/42\n",
      "4872/4872 [==============================] - 1s 163us/step - loss: 1.0645 - acc: 0.5466 - val_loss: 1.0730 - val_acc: 0.5446\n",
      "Epoch 30/42\n",
      "4872/4872 [==============================] - 1s 185us/step - loss: 1.0671 - acc: 0.5511 - val_loss: 1.0716 - val_acc: 0.5446\n",
      "Epoch 31/42\n",
      "4872/4872 [==============================] - 1s 162us/step - loss: 1.0694 - acc: 0.5511 - val_loss: 1.0719 - val_acc: 0.5483\n",
      "Epoch 32/42\n",
      "4872/4872 [==============================] - 1s 138us/step - loss: 1.0635 - acc: 0.5484 - val_loss: 1.0691 - val_acc: 0.5477\n",
      "Epoch 33/42\n",
      "4872/4872 [==============================] - 1s 129us/step - loss: 1.0612 - acc: 0.5505 - val_loss: 1.0702 - val_acc: 0.5446\n",
      "Epoch 34/42\n",
      "4872/4872 [==============================] - 1s 211us/step - loss: 1.0723 - acc: 0.5507 - val_loss: 1.0698 - val_acc: 0.5446\n",
      "Epoch 35/42\n",
      "4872/4872 [==============================] - 1s 132us/step - loss: 1.0692 - acc: 0.5546 - val_loss: 1.0687 - val_acc: 0.5489\n",
      "Epoch 36/42\n",
      "4872/4872 [==============================] - 1s 147us/step - loss: 1.0647 - acc: 0.5482 - val_loss: 1.0694 - val_acc: 0.5471\n",
      "Epoch 37/42\n",
      "4872/4872 [==============================] - 1s 114us/step - loss: 1.0652 - acc: 0.5452 - val_loss: 1.0696 - val_acc: 0.5428\n",
      "Epoch 38/42\n",
      "4872/4872 [==============================] - 0s 93us/step - loss: 1.0595 - acc: 0.5536 - val_loss: 1.0697 - val_acc: 0.5409\n",
      "Epoch 39/42\n",
      "4872/4872 [==============================] - 1s 153us/step - loss: 1.0653 - acc: 0.5540 - val_loss: 1.0695 - val_acc: 0.5458\n",
      "Epoch 40/42\n",
      "4872/4872 [==============================] - 1s 183us/step - loss: 1.0587 - acc: 0.5540 - val_loss: 1.0687 - val_acc: 0.5446\n",
      "Epoch 41/42\n",
      "4872/4872 [==============================] - 1s 141us/step - loss: 1.0615 - acc: 0.5468 - val_loss: 1.0680 - val_acc: 0.5446\n",
      "Epoch 42/42\n",
      "4872/4872 [==============================] - 0s 101us/step - loss: 1.0546 - acc: 0.5497 - val_loss: 1.0686 - val_acc: 0.5440\n"
     ]
    }
   ],
   "source": [
    "from keras.layers import Dropout\n",
    "\n",
    "model_d = Sequential()\n",
    "\n",
    "n_input = X_train_s.shape[1]\n",
    "n_hidden = n_input\n",
    "\n",
    "model_d.add(Dense(n_hidden, input_dim=n_input, activation='relu'))\n",
    "model_d.add(Dropout(rate=0.2))\n",
    "model_d.add(Dense(7, activation='softmax'))\n",
    "\n",
    "model_d.compile(loss='categorical_crossentropy', optimizer='adam', metrics=['acc'])\n",
    "\n",
    "history_d = model_d.fit(X_train_s, y_train, validation_data=(X_test_s, y_test),\n",
    "                       epochs=42, batch_size=None)"
   ]
  },
  {
   "cell_type": "code",
   "execution_count": 79,
   "metadata": {},
   "outputs": [
    {
     "data": {
      "image/png": "[encoded data removed]",
      "text/plain": [
       "<Figure size 432x288 with 1 Axes>"
      ]
     },
     "metadata": {
      "needs_background": "light"
     },
     "output_type": "display_data"
    }
   ],
   "source": [
    "plt.plot(history_d.history['loss'], label='Training loss')\n",
    "plt.plot(history_d.history['val_loss'], label='Testing loss')\n",
    "plt.legend();"
   ]
  },
  {
   "cell_type": "code",
   "execution_count": 80,
   "metadata": {},
   "outputs": [
    {
     "data": {
      "text/plain": [
       "(0.5496715927750411, 0.5439999997799213)"
      ]
     },
     "execution_count": 80,
     "metadata": {},
     "output_type": "execute_result"
    }
   ],
   "source": [
    "history_d.history['acc'][-1], history_d.history['val_acc'][-1]"
   ]
  },
  {
   "cell_type": "markdown",
   "metadata": {},
   "source": [
    "### Early Stopping"
   ]
  },
  {
   "cell_type": "markdown",
   "metadata": {},
   "source": [
    "Another idea is to try to terminate the training process early, even before some pre-specified number of epochs.\n",
    "\n",
    "$\\rightarrow$ Why is this a good idea? *Is* it a good idea?\n",
    "\n",
    "Was this sort of regularization available to us before? Why (not)?"
   ]
  },
  {
   "cell_type": "code",
   "execution_count": 81,
   "metadata": {},
   "outputs": [],
   "source": [
    "from keras.callbacks import EarlyStopping"
   ]
  },
  {
   "cell_type": "code",
   "execution_count": 91,
   "metadata": {},
   "outputs": [
    {
     "name": "stdout",
     "output_type": "stream",
     "text": [
      "Train on 4872 samples, validate on 1625 samples\n",
      "Epoch 1/42\n",
      "4872/4872 [==============================] - 1s 191us/step - loss: 1.8983 - acc: 0.2576 - val_loss: 1.5659 - val_acc: 0.4142\n",
      "Epoch 2/42\n",
      "4872/4872 [==============================] - 0s 89us/step - loss: 1.4403 - acc: 0.4696 - val_loss: 1.3280 - val_acc: 0.4966\n",
      "Epoch 3/42\n",
      "4872/4872 [==============================] - 1s 210us/step - loss: 1.2779 - acc: 0.4951 - val_loss: 1.2344 - val_acc: 0.5083\n",
      "Epoch 4/42\n",
      "4872/4872 [==============================] - 1s 110us/step - loss: 1.2046 - acc: 0.5113 - val_loss: 1.1897 - val_acc: 0.5151\n",
      "Epoch 5/42\n",
      "4872/4872 [==============================] - 1s 108us/step - loss: 1.1631 - acc: 0.5213 - val_loss: 1.1656 - val_acc: 0.5212\n",
      "Epoch 6/42\n",
      "4872/4872 [==============================] - 0s 98us/step - loss: 1.1360 - acc: 0.5285 - val_loss: 1.1470 - val_acc: 0.5231\n",
      "Epoch 7/42\n",
      "4872/4872 [==============================] - 0s 92us/step - loss: 1.1166 - acc: 0.5361 - val_loss: 1.1339 - val_acc: 0.5298\n",
      "Epoch 8/42\n",
      "4872/4872 [==============================] - 1s 164us/step - loss: 1.1031 - acc: 0.5439 - val_loss: 1.1273 - val_acc: 0.5255\n",
      "Epoch 9/42\n",
      "4872/4872 [==============================] - 1s 109us/step - loss: 1.0927 - acc: 0.5493 - val_loss: 1.1212 - val_acc: 0.5243\n",
      "Epoch 10/42\n",
      "4872/4872 [==============================] - 1s 110us/step - loss: 1.0857 - acc: 0.5546 - val_loss: 1.1176 - val_acc: 0.5323\n",
      "Epoch 11/42\n",
      "4872/4872 [==============================] - 0s 94us/step - loss: 1.0794 - acc: 0.5558 - val_loss: 1.1146 - val_acc: 0.5323\n",
      "Epoch 12/42\n",
      "4872/4872 [==============================] - 0s 101us/step - loss: 1.0737 - acc: 0.5579 - val_loss: 1.1069 - val_acc: 0.5323\n",
      "Epoch 13/42\n",
      "4872/4872 [==============================] - 0s 101us/step - loss: 1.0696 - acc: 0.5577 - val_loss: 1.1038 - val_acc: 0.5292\n",
      "Epoch 14/42\n",
      "4872/4872 [==============================] - 0s 92us/step - loss: 1.0650 - acc: 0.5579 - val_loss: 1.1030 - val_acc: 0.5262\n",
      "Epoch 15/42\n",
      "4872/4872 [==============================] - 0s 92us/step - loss: 1.0615 - acc: 0.5581 - val_loss: 1.0979 - val_acc: 0.5317\n",
      "Epoch 16/42\n",
      "4872/4872 [==============================] - 1s 198us/step - loss: 1.0584 - acc: 0.5579 - val_loss: 1.0956 - val_acc: 0.5348\n",
      "Epoch 17/42\n",
      "4872/4872 [==============================] - 1s 104us/step - loss: 1.0550 - acc: 0.5556 - val_loss: 1.0950 - val_acc: 0.5305\n",
      "Epoch 18/42\n",
      "4872/4872 [==============================] - 1s 167us/step - loss: 1.0526 - acc: 0.5562 - val_loss: 1.0910 - val_acc: 0.5366\n",
      "Epoch 19/42\n",
      "4872/4872 [==============================] - 0s 99us/step - loss: 1.0495 - acc: 0.5593 - val_loss: 1.0924 - val_acc: 0.5292\n",
      "Epoch 00019: early stopping\n"
     ]
    }
   ],
   "source": [
    "from keras.callbacks import EarlyStopping\n",
    "\n",
    "model_es = Sequential()\n",
    "\n",
    "n_input = X_train_s.shape[1]\n",
    "n_hidden = n_input\n",
    "\n",
    "model_es.add(Dense(n_hidden, input_dim=n_input, activation='relu'))\n",
    "model_es.add(Dense(7, activation='softmax'))\n",
    "\n",
    "model_es.compile(loss='categorical_crossentropy', optimizer='adam', metrics=['acc'])\n",
    "\n",
    "early_stop = EarlyStopping(monitor='val_loss', min_delta=1e-08, patience=0, verbose=1, mode='auto')\n",
    "\n",
    "callbacks_list = [early_stop]\n",
    "\n",
    "history_es = model_es.fit(X_train_s, y_train, validation_data=(X_test_s, y_test),\n",
    "                         epochs=42, batch_size=None, callbacks=callbacks_list)"
   ]
  },
  {
   "cell_type": "code",
   "execution_count": 92,
   "metadata": {},
   "outputs": [
    {
     "data": {
      "image/png": "[encoded data removed]",
      "text/plain": [
       "<Figure size 432x288 with 1 Axes>"
      ]
     },
     "metadata": {
      "needs_background": "light"
     },
     "output_type": "display_data"
    }
   ],
   "source": [
    "plt.plot(history_es.history['loss'], label='Training loss')\n",
    "plt.plot(history_es.history['val_loss'], label='Testing loss')\n",
    "plt.legend();"
   ]
  },
  {
   "cell_type": "code",
   "execution_count": null,
   "metadata": {},
   "outputs": [],
   "source": []
  }
 ],
 "metadata": {
  "kernelspec": {
   "display_name": "Python 3",
   "language": "python",
   "name": "python3"
  },
  "language_info": {
   "codemirror_mode": {
    "name": "ipython",
    "version": 3
   },
   "file_extension": ".py",
   "mimetype": "text/x-python",
   "name": "python",
   "nbconvert_exporter": "python",
   "pygments_lexer": "ipython3",
   "version": "3.6.6"
  }
 },
 "nbformat": 4,
 "nbformat_minor": 2
}
